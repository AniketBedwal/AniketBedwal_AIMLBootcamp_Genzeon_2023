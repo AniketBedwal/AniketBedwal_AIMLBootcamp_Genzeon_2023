{
  "nbformat": 4,
  "nbformat_minor": 0,
  "metadata": {
    "colab": {
      "provenance": [],
      "authorship_tag": "ABX9TyPJHolbx+F3AygPbE8NZQ2a",
      "include_colab_link": true
    },
    "kernelspec": {
      "name": "python3",
      "display_name": "Python 3"
    },
    "language_info": {
      "name": "python"
    }
  },
  "cells": [
    {
      "cell_type": "markdown",
      "metadata": {
        "id": "view-in-github",
        "colab_type": "text"
      },
      "source": [
        "<a href=\"https://colab.research.google.com/github/AniketBedwal/AniketBedwal_AIMLBootcamp_Genzeon_2023/blob/main/05June.ipynb\" target=\"_parent\"><img src=\"https://colab.research.google.com/assets/colab-badge.svg\" alt=\"Open In Colab\"/></a>"
      ]
    },
    {
      "cell_type": "code",
      "execution_count": null,
      "metadata": {
        "colab": {
          "base_uri": "https://localhost:8080/"
        },
        "id": "KJW8DJbuIH6M",
        "outputId": "676b3888-80ac-436b-a6ec-6fd156c20e6d"
      },
      "outputs": [
        {
          "output_type": "stream",
          "name": "stdout",
          "text": [
            "ANIKET BEDWAL\n"
          ]
        }
      ],
      "source": [
        "print(\"ANIKET BEDWAL\")"
      ]
    },
    {
      "cell_type": "code",
      "source": [
        "name = 'Piyush'\n",
        "print(f'Welcome To genzeon {name}')\n",
        "aadhar = int(input('Enter aadhar card'))\n",
        "print(f'{aadhar}')"
      ],
      "metadata": {
        "id": "ctOrVMQhJhYd"
      },
      "execution_count": null,
      "outputs": []
    },
    {
      "cell_type": "code",
      "source": [
        "c=7+5j\n",
        "print(c.real)\n",
        "print(c.imag)"
      ],
      "metadata": {
        "colab": {
          "base_uri": "https://localhost:8080/"
        },
        "id": "betu2BsEx2Tv",
        "outputId": "354ea874-1f17-4acc-bc54-9c5484877f23"
      },
      "execution_count": 1,
      "outputs": [
        {
          "output_type": "stream",
          "name": "stdout",
          "text": [
            "7.0\n",
            "5.0\n"
          ]
        }
      ]
    },
    {
      "cell_type": "code",
      "source": [
        "#integer\n",
        "a = 1\n",
        "b = 4+5j\n",
        "\n",
        "#float\n",
        "c = 5.4\n",
        "\n",
        "#text\n",
        "s=\"hello\"\n",
        "\n",
        "#sequence type\n",
        "my_list = [1,2,3,4]\n",
        "my_tuple = (1,2,3,4)\n",
        "\n",
        "#Mapping\n",
        "dict={\"name\" : \"aniket\"}\n",
        "\n",
        "#set\n",
        "set1 = {1,2,3,4}\n",
        "\n",
        "#boolean\n",
        "x=true\n",
        "y=float\n",
        "\n",
        "\n"
      ],
      "metadata": {
        "id": "PRVmrXW_6EnO"
      },
      "execution_count": null,
      "outputs": []
    },
    {
      "cell_type": "code",
      "source": [
        "a=3\n",
        "b=4.3\n",
        "c=float(a)\n",
        "d= int(b)\n",
        "\n",
        "print(c)\n"
      ],
      "metadata": {
        "colab": {
          "base_uri": "https://localhost:8080/"
        },
        "id": "N_vV5K5R7MIc",
        "outputId": "c239056d-34d0-4b0a-fb02-85d52e21f046"
      },
      "execution_count": 4,
      "outputs": [
        {
          "output_type": "stream",
          "name": "stdout",
          "text": [
            "3.0\n"
          ]
        }
      ]
    },
    {
      "cell_type": "code",
      "source": [
        "str = \"     aniket\"\n",
        "str1 = str.upper()\n",
        "print(str1)\n",
        "str2 = str.lstrip()\n",
        "print(str2)\n",
        "dir(str)\n"
      ],
      "metadata": {
        "colab": {
          "base_uri": "https://localhost:8080/"
        },
        "id": "QXulKOkjBGYb",
        "outputId": "bb9bae14-6b1c-4ca5-e45a-cabdaa3f73b1"
      },
      "execution_count": 8,
      "outputs": [
        {
          "output_type": "stream",
          "name": "stdout",
          "text": [
            "     ANIKET\n",
            "aniket\n"
          ]
        },
        {
          "output_type": "execute_result",
          "data": {
            "text/plain": [
              "['__add__',\n",
              " '__class__',\n",
              " '__contains__',\n",
              " '__delattr__',\n",
              " '__dir__',\n",
              " '__doc__',\n",
              " '__eq__',\n",
              " '__format__',\n",
              " '__ge__',\n",
              " '__getattribute__',\n",
              " '__getitem__',\n",
              " '__getnewargs__',\n",
              " '__gt__',\n",
              " '__hash__',\n",
              " '__init__',\n",
              " '__init_subclass__',\n",
              " '__iter__',\n",
              " '__le__',\n",
              " '__len__',\n",
              " '__lt__',\n",
              " '__mod__',\n",
              " '__mul__',\n",
              " '__ne__',\n",
              " '__new__',\n",
              " '__reduce__',\n",
              " '__reduce_ex__',\n",
              " '__repr__',\n",
              " '__rmod__',\n",
              " '__rmul__',\n",
              " '__setattr__',\n",
              " '__sizeof__',\n",
              " '__str__',\n",
              " '__subclasshook__',\n",
              " 'capitalize',\n",
              " 'casefold',\n",
              " 'center',\n",
              " 'count',\n",
              " 'encode',\n",
              " 'endswith',\n",
              " 'expandtabs',\n",
              " 'find',\n",
              " 'format',\n",
              " 'format_map',\n",
              " 'index',\n",
              " 'isalnum',\n",
              " 'isalpha',\n",
              " 'isascii',\n",
              " 'isdecimal',\n",
              " 'isdigit',\n",
              " 'isidentifier',\n",
              " 'islower',\n",
              " 'isnumeric',\n",
              " 'isprintable',\n",
              " 'isspace',\n",
              " 'istitle',\n",
              " 'isupper',\n",
              " 'join',\n",
              " 'ljust',\n",
              " 'lower',\n",
              " 'lstrip',\n",
              " 'maketrans',\n",
              " 'partition',\n",
              " 'removeprefix',\n",
              " 'removesuffix',\n",
              " 'replace',\n",
              " 'rfind',\n",
              " 'rindex',\n",
              " 'rjust',\n",
              " 'rpartition',\n",
              " 'rsplit',\n",
              " 'rstrip',\n",
              " 'split',\n",
              " 'splitlines',\n",
              " 'startswith',\n",
              " 'strip',\n",
              " 'swapcase',\n",
              " 'title',\n",
              " 'translate',\n",
              " 'upper',\n",
              " 'zfill']"
            ]
          },
          "metadata": {},
          "execution_count": 8
        }
      ]
    },
    {
      "cell_type": "code",
      "source": [
        "str5 = \" Aniket Bedwal\"\n",
        "print(str5.upper())\n",
        "print(str5.title())\n",
        "print(str5.rstrip())\n",
        "print(str5.lstrip())\n",
        "print(str5.swapcase())\n",
        "print(str5.startswith('  '))\n",
        "print(str5.ljust(10))\n",
        "str6 = \" Aniket Bedwal\"\n"
      ],
      "metadata": {
        "colab": {
          "base_uri": "https://localhost:8080/"
        },
        "id": "W2wLltvGXTiM",
        "outputId": "8cb0ceba-1e0b-450e-ac98-201843a4227f"
      },
      "execution_count": 20,
      "outputs": [
        {
          "output_type": "stream",
          "name": "stdout",
          "text": [
            " ANIKET BEDWAL\n",
            " Aniket Bedwal\n",
            " Aniket Bedwal\n",
            "Aniket Bedwal\n",
            " aNIKET bEDWAL\n",
            "False\n",
            " Aniket Bedwal\n"
          ]
        }
      ]
    },
    {
      "cell_type": "code",
      "source": [
        "a=10\n",
        "b = 20\n",
        "print(a+b)\n",
        "print(a-b)\n",
        "print(a*b)\n",
        "print(a/b)\n",
        "print(a//b) #int \n",
        "print(a**b) # return power"
      ],
      "metadata": {
        "colab": {
          "base_uri": "https://localhost:8080/"
        },
        "id": "eO50r7M9tBFH",
        "outputId": "cf888f35-6f93-4601-9be2-0ef02e529845"
      },
      "execution_count": 23,
      "outputs": [
        {
          "output_type": "stream",
          "name": "stdout",
          "text": [
            "30\n",
            "-10\n",
            "200\n",
            "0.5\n",
            "0\n",
            "100000000000000000000\n"
          ]
        }
      ]
    },
    {
      "cell_type": "code",
      "source": [
        "#type conversion\n",
        "a=3\n",
        "b=4.0\n",
        "c=float(a)\n",
        "d=int(b)\n",
        "print(c,d)"
      ],
      "metadata": {
        "colab": {
          "base_uri": "https://localhost:8080/"
        },
        "id": "UGM0ZSJgtVzI",
        "outputId": "494af39a-2b43-4e1e-febf-d8da88d9bd49"
      },
      "execution_count": 24,
      "outputs": [
        {
          "output_type": "stream",
          "name": "stdout",
          "text": [
            "3.0 4\n"
          ]
        }
      ]
    },
    {
      "cell_type": "code",
      "source": [
        "set={\"name\",\"is\",\"aniket\"}\n",
        "print(set)\n",
        "type(set)"
      ],
      "metadata": {
        "colab": {
          "base_uri": "https://localhost:8080/"
        },
        "id": "RIUVMNxxtqzQ",
        "outputId": "2bdb1769-68b5-402a-f63e-a7eea3580208"
      },
      "execution_count": 28,
      "outputs": [
        {
          "output_type": "stream",
          "name": "stdout",
          "text": [
            "{'is', 'name', 'aniket'}\n"
          ]
        },
        {
          "output_type": "execute_result",
          "data": {
            "text/plain": [
              "set"
            ]
          },
          "metadata": {},
          "execution_count": 28
        }
      ]
    },
    {
      "cell_type": "code",
      "source": [],
      "metadata": {
        "id": "IEzDMfsVt-7P"
      },
      "execution_count": null,
      "outputs": []
    },
    {
      "cell_type": "code",
      "source": [
        "#comparison\n",
        "a=10\n",
        "b=20\n",
        "print(a==b)\n",
        "print(a!=b)\n",
        "print(a>b)\n",
        "#print(a=b)\n",
        "\n",
        "print(a<=b)"
      ],
      "metadata": {
        "colab": {
          "base_uri": "https://localhost:8080/"
        },
        "id": "0-DFxDOluIWG",
        "outputId": "fcdbb105-02ba-4c81-f7af-2ef1b350ed4c"
      },
      "execution_count": 33,
      "outputs": [
        {
          "output_type": "stream",
          "name": "stdout",
          "text": [
            "False\n",
            "True\n",
            "False\n",
            "True\n"
          ]
        }
      ]
    },
    {
      "cell_type": "code",
      "source": [
        "#assignment operator\n",
        "c=a+b\n",
        "c+=a\n",
        "c-=a\n",
        "c*=a"
      ],
      "metadata": {
        "id": "SVv4_hWovQaH"
      },
      "execution_count": 34,
      "outputs": []
    },
    {
      "cell_type": "code",
      "source": [
        "x=True\n",
        "y=False\n",
        "print(\"x and y is\", x and y)\n",
        "print(\"x or y\", x or y)\n",
        "print(\"x not is\", not x)"
      ],
      "metadata": {
        "colab": {
          "base_uri": "https://localhost:8080/"
        },
        "id": "NlTOyM-4vtnN",
        "outputId": "8af68d4e-fe0c-4189-f2df-9e683467626f"
      },
      "execution_count": 36,
      "outputs": [
        {
          "output_type": "stream",
          "name": "stdout",
          "text": [
            "x and y is False\n",
            "x or y True\n",
            "x not is False\n"
          ]
        }
      ]
    },
    {
      "cell_type": "code",
      "source": [
        "a=11\n",
        "b=12\n",
        "print(a&b)\n",
        "print(a|b)\n",
        "print(a^b)\n",
        "print(~a)"
      ],
      "metadata": {
        "colab": {
          "base_uri": "https://localhost:8080/"
        },
        "id": "gRzGTMX3wWBt",
        "outputId": "3b3e4402-7f3a-443a-a95d-631c547bfd0c"
      },
      "execution_count": 37,
      "outputs": [
        {
          "output_type": "stream",
          "name": "stdout",
          "text": [
            "8\n",
            "15\n",
            "7\n",
            "-12\n"
          ]
        }
      ]
    },
    {
      "cell_type": "code",
      "source": [
        "\n",
        "cars=[\"mercedes\",\"ferrari\",\"porshe\",\"lambo\"]\n",
        "print(cars)\n",
        "cars.append(\"maruti\")\n",
        "print(cars)\n",
        "cars.insert(2,\"rolls royce\")\n",
        "print(cars)\n",
        "cars.remove(\"maruti\")\n",
        "print(cars)\n",
        "cars.reverse()\n",
        "print(cars)"
      ],
      "metadata": {
        "colab": {
          "base_uri": "https://localhost:8080/"
        },
        "id": "5JnhjtVFwqTI",
        "outputId": "a9d2f8f3-2f45-4028-edb1-731606f7f597"
      },
      "execution_count": 39,
      "outputs": [
        {
          "output_type": "stream",
          "name": "stdout",
          "text": [
            "['mercedes', 'ferrari', 'porshe', 'lambo']\n",
            "['mercedes', 'ferrari', 'porshe', 'lambo', 'maruti']\n",
            "['mercedes', 'ferrari', 'rolls royce', 'porshe', 'lambo', 'maruti']\n",
            "['mercedes', 'ferrari', 'rolls royce', 'porshe', 'lambo']\n",
            "['lambo', 'porshe', 'rolls royce', 'ferrari', 'mercedes']\n"
          ]
        }
      ]
    }
  ]
}